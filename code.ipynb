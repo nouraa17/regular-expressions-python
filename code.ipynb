{
 "cells": [
  {
   "cell_type": "code",
   "execution_count": 1,
   "id": "4c91cd14",
   "metadata": {},
   "outputs": [
    {
     "name": "stdout",
     "output_type": "stream",
     "text": [
      "Requirement already satisfied: nltk in c:\\users\\noura\\anaconda3\\lib\\site-packages (3.6.5)\n",
      "Requirement already satisfied: click in c:\\users\\noura\\anaconda3\\lib\\site-packages (from nltk) (8.0.3)\n",
      "Requirement already satisfied: joblib in c:\\users\\noura\\anaconda3\\lib\\site-packages (from nltk) (1.1.0)\n",
      "Requirement already satisfied: regex>=2021.8.3 in c:\\users\\noura\\anaconda3\\lib\\site-packages (from nltk) (2021.8.3)\n",
      "Requirement already satisfied: tqdm in c:\\users\\noura\\anaconda3\\lib\\site-packages (from nltk) (4.62.3)\n",
      "Requirement already satisfied: colorama in c:\\users\\noura\\anaconda3\\lib\\site-packages (from click->nltk) (0.4.4)\n",
      "Note: you may need to restart the kernel to use updated packages.\n"
     ]
    }
   ],
   "source": [
    "pip install nltk"
   ]
  },
  {
   "cell_type": "code",
   "execution_count": 2,
   "id": "50df4442",
   "metadata": {},
   "outputs": [
    {
     "name": "stdout",
     "output_type": "stream",
     "text": [
      "Requirement already satisfied: python-docx in c:\\users\\noura\\anaconda3\\lib\\site-packages (1.1.0)\n",
      "Requirement already satisfied: lxml>=3.1.0 in c:\\users\\noura\\anaconda3\\lib\\site-packages (from python-docx) (4.6.3)\n",
      "Requirement already satisfied: typing-extensions in c:\\users\\noura\\anaconda3\\lib\\site-packages (from python-docx) (4.10.0)\n",
      "Note: you may need to restart the kernel to use updated packages.\n"
     ]
    }
   ],
   "source": [
    "pip install python-docx"
   ]
  },
  {
   "cell_type": "code",
   "execution_count": 3,
   "id": "06c7e9b3",
   "metadata": {},
   "outputs": [
    {
     "name": "stderr",
     "output_type": "stream",
     "text": [
      "[nltk_data] Downloading package punkt to\n",
      "[nltk_data]     C:\\Users\\Noura\\AppData\\Roaming\\nltk_data...\n",
      "[nltk_data]   Package punkt is already up-to-date!\n"
     ]
    },
    {
     "data": {
      "text/plain": [
       "True"
      ]
     },
     "execution_count": 3,
     "metadata": {},
     "output_type": "execute_result"
    }
   ],
   "source": [
    "import nltk\n",
    "nltk.download('punkt')"
   ]
  },
  {
   "cell_type": "code",
   "execution_count": 4,
   "id": "2275cba0",
   "metadata": {},
   "outputs": [],
   "source": [
    "from nltk.tokenize import word_tokenize\n",
    "import re"
   ]
  },
  {
   "cell_type": "code",
   "execution_count": 5,
   "id": "0d6d0f69",
   "metadata": {},
   "outputs": [],
   "source": [
    "import docx"
   ]
  },
  {
   "cell_type": "code",
   "execution_count": 6,
   "id": "91ba8c19",
   "metadata": {},
   "outputs": [],
   "source": [
    "# I collected random text from wikipedia in different categories more than 17000 words\n",
    "# and i didn't find dates so i added them manually in the file randomly \n",
    "doc = docx.Document(r'C:\\Users\\Noura\\.ipynb_checkpoints\\corpus.docx')\n",
    "text = '\\n'.join([paragraph.text for paragraph in doc.paragraphs])"
   ]
  },
  {
   "cell_type": "code",
   "execution_count": 7,
   "id": "9ec8c154",
   "metadata": {},
   "outputs": [],
   "source": [
    "# Extract all Words start with capital letter\n",
    "cap_letters = [word for word in word_tokenize(text) if word[0].isupper()]"
   ]
  },
  {
   "cell_type": "code",
   "execution_count": 8,
   "id": "e9875016",
   "metadata": {},
   "outputs": [
    {
     "name": "stdout",
     "output_type": "stream",
     "text": [
      "['From', 'Bradley', 'Cooper', 'Bradley', 'Cooper', 'American', 'After', 'Sex', 'City', 'Wet', 'Hot', 'American', 'Summer', 'Will', 'Tippin', 'Alias', 'He', 'The', 'Hangover', 'Cooper', 'Silver', 'Linings', 'Playbook', 'American', 'Hustle', 'American', 'Sniper', 'Cooper', 'A', 'Star', 'Is', 'Born', 'For', 'Shallow', 'BAFTA', 'Award', 'Grammys', 'Cooper', 'Joker', 'Nightmare', 'Alley', 'Maestro', 'He', 'Academy', 'Award', 'This', 'Bradley', 'Cooper', 'Recently', 'Charles']\n"
     ]
    }
   ],
   "source": [
    "# I just printed the first 50 item for better visualization\n",
    "print(cap_letters[:50])"
   ]
  },
  {
   "cell_type": "code",
   "execution_count": 9,
   "id": "5551798d",
   "metadata": {},
   "outputs": [],
   "source": [
    "# Extract all different date formats\n",
    "date_format = r'\\b(?:\\d{4}/\\d{2}/\\d{2}|\\d{1,2}/\\d{2}/\\d{4} |\\d{2}/\\d{1,2}/\\d{4}|\\d{1,2}/\\d{1,2}/\\d{4}|\\d{4}-\\d{2}-\\d{2}|\\d{1,2}-\\d{2}-\\d{4}|\\d{2}-\\d{1,2}-\\d{4}|\\d{1,2}-\\d{1,2}-\\d{4})\\b'\n",
    "dates = re.findall(date_format, text)"
   ]
  },
  {
   "cell_type": "code",
   "execution_count": 10,
   "id": "faad8ae2",
   "metadata": {},
   "outputs": [
    {
     "name": "stdout",
     "output_type": "stream",
     "text": [
      "['2024/03/11', '11-03-2024', '3-11-2024', '11/3/2024', '2024-03-11', '11/03/2024', '3/11/2024', '11-3-2024']\n"
     ]
    }
   ],
   "source": [
    "# I just printed the first 50 item for better visualization\n",
    "print(dates[:50])"
   ]
  },
  {
   "cell_type": "code",
   "execution_count": 11,
   "id": "a01c69af",
   "metadata": {},
   "outputs": [],
   "source": [
    "# Extract all words that are valid as c++ variables\n",
    "var = r'\\b(?:[a-zA-Z_][a-zA-Z0-9_]*)\\b'\n",
    "cpp_variables = re.findall(var, text)"
   ]
  },
  {
   "cell_type": "code",
   "execution_count": 12,
   "id": "bb5daeea",
   "metadata": {},
   "outputs": [
    {
     "name": "stdout",
     "output_type": "stream",
     "text": [
      "['From', 'today', 's', 'featured', 'article', 'Bradley', 'Cooper', 'Bradley', 'Cooper', 'born', 'is', 'an', 'American', 'actor', 'and', 'filmmaker', 'whose', 'films', 'have', 'grossed', 'billion', 'worldwide', 'After', 'a', 'guest', 'role', 'in', 'Sex', 'and', 'the', 'City', 'he', 'made', 'his', 'film', 'debut', 'in', 'the', 'comedy', 'Wet', 'Hot', 'American', 'Summer', 'and', 'played', 'Will', 'Tippin', 'in', 'the', 'television']\n"
     ]
    }
   ],
   "source": [
    "# I just printed the first 50 item for better visualization\n",
    "print(cpp_variables[:50])"
   ]
  },
  {
   "cell_type": "code",
   "execution_count": null,
   "id": "bd47e6dd",
   "metadata": {},
   "outputs": [],
   "source": []
  }
 ],
 "metadata": {
  "kernelspec": {
   "display_name": "Python 3 (ipykernel)",
   "language": "python",
   "name": "python3"
  },
  "language_info": {
   "codemirror_mode": {
    "name": "ipython",
    "version": 3
   },
   "file_extension": ".py",
   "mimetype": "text/x-python",
   "name": "python",
   "nbconvert_exporter": "python",
   "pygments_lexer": "ipython3",
   "version": "3.9.7"
  }
 },
 "nbformat": 4,
 "nbformat_minor": 5
}
